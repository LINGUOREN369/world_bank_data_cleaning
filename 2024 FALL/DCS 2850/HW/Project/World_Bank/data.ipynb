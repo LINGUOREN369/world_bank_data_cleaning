{
 "cells": [
  {
   "cell_type": "code",
   "execution_count": 61,
   "metadata": {},
   "outputs": [],
   "source": [
    "import pandas as pd\n",
    "import numpy as np"
   ]
  },
  {
   "cell_type": "code",
   "execution_count": 74,
   "metadata": {},
   "outputs": [],
   "source": [
    "countries = [\n",
    "    \"United States\",\n",
    "    \"Canada\",\n",
    "    \"Mexico\",\n",
    "    \"Brazil\",\n",
    "    \"Russia\",\n",
    "    \"United Kingdom\",\n",
    "    \"Germany\",\n",
    "    \"France\",\n",
    "    \"South Africa\",\n",
    "    \"Nigeria\",\n",
    "    \"Kenya\",\n",
    "    \"Egypt\",\n",
    "    \"India\",\n",
    "    \"China\",\n",
    "    \"Japan\",\n",
    "    \"South Korea\",\n",
    "    \"Vietnam\",\n",
    "    \"Australia\",\n",
    "    \"Saudi Arabia\",\n",
    "    \"Philippines\"\n",
    "]"
   ]
  },
  {
   "cell_type": "code",
   "execution_count": 75,
   "metadata": {},
   "outputs": [],
   "source": [
    "final_df = pd.DataFrame()"
   ]
  },
  {
   "cell_type": "markdown",
   "metadata": {},
   "source": [
    "### GDP in USD"
   ]
  },
  {
   "cell_type": "code",
   "execution_count": 76,
   "metadata": {},
   "outputs": [
    {
     "data": {
      "text/html": [
       "<div>\n",
       "<style scoped>\n",
       "    .dataframe tbody tr th:only-of-type {\n",
       "        vertical-align: middle;\n",
       "    }\n",
       "\n",
       "    .dataframe tbody tr th {\n",
       "        vertical-align: top;\n",
       "    }\n",
       "\n",
       "    .dataframe thead th {\n",
       "        text-align: right;\n",
       "    }\n",
       "</style>\n",
       "<table border=\"1\" class=\"dataframe\">\n",
       "  <thead>\n",
       "    <tr style=\"text-align: right;\">\n",
       "      <th></th>\n",
       "      <th>Country Name</th>\n",
       "      <th>GDP_USD</th>\n",
       "    </tr>\n",
       "  </thead>\n",
       "  <tbody>\n",
       "    <tr>\n",
       "      <th>13</th>\n",
       "      <td>Australia</td>\n",
       "      <td>1.330382e+12</td>\n",
       "    </tr>\n",
       "    <tr>\n",
       "      <th>29</th>\n",
       "      <td>Brazil</td>\n",
       "      <td>1.476107e+12</td>\n",
       "    </tr>\n",
       "    <tr>\n",
       "      <th>35</th>\n",
       "      <td>Canada</td>\n",
       "      <td>1.655685e+12</td>\n",
       "    </tr>\n",
       "    <tr>\n",
       "      <th>40</th>\n",
       "      <td>China</td>\n",
       "      <td>1.468774e+13</td>\n",
       "    </tr>\n",
       "    <tr>\n",
       "      <th>55</th>\n",
       "      <td>Germany</td>\n",
       "      <td>3.887727e+12</td>\n",
       "    </tr>\n",
       "  </tbody>\n",
       "</table>\n",
       "</div>"
      ],
      "text/plain": [
       "   Country Name       GDP_USD\n",
       "13    Australia  1.330382e+12\n",
       "29       Brazil  1.476107e+12\n",
       "35       Canada  1.655685e+12\n",
       "40        China  1.468774e+13\n",
       "55      Germany  3.887727e+12"
      ]
     },
     "execution_count": 76,
     "metadata": {},
     "output_type": "execute_result"
    }
   ],
   "source": [
    "df_gdp_usd = pd.read_csv('data/gdp_usd.csv')\n",
    "df_gdp_usd_2020 = df_gdp_usd[df_gdp_usd[\"Country Name\"].isin(countries)][[\"Country Name\", \"2020\"]]\n",
    "#rename the column to \"GDP\"\n",
    "df_gdp_usd_2020.columns = [\"Country Name\", \"GDP_USD\"]\n",
    "df_gdp_usd_2020.head()"
   ]
  },
  {
   "cell_type": "markdown",
   "metadata": {},
   "source": [
    "### Rural Pop"
   ]
  },
  {
   "cell_type": "code",
   "execution_count": 77,
   "metadata": {},
   "outputs": [
    {
     "data": {
      "text/html": [
       "<div>\n",
       "<style scoped>\n",
       "    .dataframe tbody tr th:only-of-type {\n",
       "        vertical-align: middle;\n",
       "    }\n",
       "\n",
       "    .dataframe tbody tr th {\n",
       "        vertical-align: top;\n",
       "    }\n",
       "\n",
       "    .dataframe thead th {\n",
       "        text-align: right;\n",
       "    }\n",
       "</style>\n",
       "<table border=\"1\" class=\"dataframe\">\n",
       "  <thead>\n",
       "    <tr style=\"text-align: right;\">\n",
       "      <th></th>\n",
       "      <th>Country Name</th>\n",
       "      <th>Rural_Population</th>\n",
       "    </tr>\n",
       "  </thead>\n",
       "  <tbody>\n",
       "    <tr>\n",
       "      <th>13</th>\n",
       "      <td>Australia</td>\n",
       "      <td>13.759</td>\n",
       "    </tr>\n",
       "    <tr>\n",
       "      <th>29</th>\n",
       "      <td>Brazil</td>\n",
       "      <td>12.927</td>\n",
       "    </tr>\n",
       "    <tr>\n",
       "      <th>35</th>\n",
       "      <td>Canada</td>\n",
       "      <td>18.438</td>\n",
       "    </tr>\n",
       "    <tr>\n",
       "      <th>40</th>\n",
       "      <td>China</td>\n",
       "      <td>38.572</td>\n",
       "    </tr>\n",
       "    <tr>\n",
       "      <th>55</th>\n",
       "      <td>Germany</td>\n",
       "      <td>22.547</td>\n",
       "    </tr>\n",
       "  </tbody>\n",
       "</table>\n",
       "</div>"
      ],
      "text/plain": [
       "   Country Name  Rural_Population\n",
       "13    Australia            13.759\n",
       "29       Brazil            12.927\n",
       "35       Canada            18.438\n",
       "40        China            38.572\n",
       "55      Germany            22.547"
      ]
     },
     "execution_count": 77,
     "metadata": {},
     "output_type": "execute_result"
    }
   ],
   "source": [
    "df_rural_pop = pd.read_csv('data/rural_pop.csv')\n",
    "df_rural_pop_2020 = df_rural_pop[df_rural_pop[\"Country Name\"].isin(countries)][[\"Country Name\", \"2020\"]]\n",
    "df_rural_pop_2020.columns = [\"Country Name\", \"Rural_Population\"]\n",
    "df_rural_pop_2020.head()"
   ]
  },
  {
   "cell_type": "markdown",
   "metadata": {},
   "source": [
    "### Df urban pop"
   ]
  },
  {
   "cell_type": "code",
   "execution_count": 78,
   "metadata": {},
   "outputs": [
    {
     "data": {
      "text/html": [
       "<div>\n",
       "<style scoped>\n",
       "    .dataframe tbody tr th:only-of-type {\n",
       "        vertical-align: middle;\n",
       "    }\n",
       "\n",
       "    .dataframe tbody tr th {\n",
       "        vertical-align: top;\n",
       "    }\n",
       "\n",
       "    .dataframe thead th {\n",
       "        text-align: right;\n",
       "    }\n",
       "</style>\n",
       "<table border=\"1\" class=\"dataframe\">\n",
       "  <thead>\n",
       "    <tr style=\"text-align: right;\">\n",
       "      <th></th>\n",
       "      <th>Country Name</th>\n",
       "      <th>Urban_Population</th>\n",
       "    </tr>\n",
       "  </thead>\n",
       "  <tbody>\n",
       "    <tr>\n",
       "      <th>13</th>\n",
       "      <td>Australia</td>\n",
       "      <td>86.241</td>\n",
       "    </tr>\n",
       "    <tr>\n",
       "      <th>29</th>\n",
       "      <td>Brazil</td>\n",
       "      <td>87.073</td>\n",
       "    </tr>\n",
       "    <tr>\n",
       "      <th>35</th>\n",
       "      <td>Canada</td>\n",
       "      <td>81.562</td>\n",
       "    </tr>\n",
       "    <tr>\n",
       "      <th>40</th>\n",
       "      <td>China</td>\n",
       "      <td>61.428</td>\n",
       "    </tr>\n",
       "    <tr>\n",
       "      <th>55</th>\n",
       "      <td>Germany</td>\n",
       "      <td>77.453</td>\n",
       "    </tr>\n",
       "  </tbody>\n",
       "</table>\n",
       "</div>"
      ],
      "text/plain": [
       "   Country Name  Urban_Population\n",
       "13    Australia            86.241\n",
       "29       Brazil            87.073\n",
       "35       Canada            81.562\n",
       "40        China            61.428\n",
       "55      Germany            77.453"
      ]
     },
     "execution_count": 78,
     "metadata": {},
     "output_type": "execute_result"
    }
   ],
   "source": [
    "df_urban_pop = pd.read_csv('data/urban_pop.csv')\n",
    "df_urban_pop_2020 = df_urban_pop[df_urban_pop[\"Country Name\"].isin(countries)][[\"Country Name\", \"2020\"]]\n",
    "df_urban_pop_2020.columns = [\"Country Name\", \"Urban_Population\"]\n",
    "df_urban_pop_2020.head()"
   ]
  },
  {
   "cell_type": "code",
   "execution_count": null,
   "metadata": {},
   "outputs": [],
   "source": []
  },
  {
   "cell_type": "code",
   "execution_count": 79,
   "metadata": {},
   "outputs": [
    {
     "data": {
      "text/html": [
       "<div>\n",
       "<style scoped>\n",
       "    .dataframe tbody tr th:only-of-type {\n",
       "        vertical-align: middle;\n",
       "    }\n",
       "\n",
       "    .dataframe tbody tr th {\n",
       "        vertical-align: top;\n",
       "    }\n",
       "\n",
       "    .dataframe thead th {\n",
       "        text-align: right;\n",
       "    }\n",
       "</style>\n",
       "<table border=\"1\" class=\"dataframe\">\n",
       "  <thead>\n",
       "    <tr style=\"text-align: right;\">\n",
       "      <th></th>\n",
       "      <th>Country Name</th>\n",
       "      <th>male_le</th>\n",
       "    </tr>\n",
       "  </thead>\n",
       "  <tbody>\n",
       "    <tr>\n",
       "      <th>13</th>\n",
       "      <td>Australia</td>\n",
       "      <td>81.200</td>\n",
       "    </tr>\n",
       "    <tr>\n",
       "      <th>29</th>\n",
       "      <td>Brazil</td>\n",
       "      <td>70.700</td>\n",
       "    </tr>\n",
       "    <tr>\n",
       "      <th>35</th>\n",
       "      <td>Canada</td>\n",
       "      <td>79.480</td>\n",
       "    </tr>\n",
       "    <tr>\n",
       "      <th>40</th>\n",
       "      <td>China</td>\n",
       "      <td>75.305</td>\n",
       "    </tr>\n",
       "    <tr>\n",
       "      <th>55</th>\n",
       "      <td>Germany</td>\n",
       "      <td>78.700</td>\n",
       "    </tr>\n",
       "  </tbody>\n",
       "</table>\n",
       "</div>"
      ],
      "text/plain": [
       "   Country Name  male_le\n",
       "13    Australia   81.200\n",
       "29       Brazil   70.700\n",
       "35       Canada   79.480\n",
       "40        China   75.305\n",
       "55      Germany   78.700"
      ]
     },
     "execution_count": 79,
     "metadata": {},
     "output_type": "execute_result"
    }
   ],
   "source": [
    "### Life Expectancy for male\n",
    "life_expectancy_male = pd.read_csv('data/male_le.csv')\n",
    "df_life_expectancy_male = life_expectancy_male[life_expectancy_male[\"Country Name\"].isin(countries)][[\"Country Name\", \"2020\"]]\n",
    "df_life_expectancy_male.columns = [\"Country Name\", \"male_le\"]\n",
    "df_life_expectancy_male.head()\n"
   ]
  },
  {
   "cell_type": "code",
   "execution_count": 80,
   "metadata": {},
   "outputs": [
    {
     "data": {
      "text/html": [
       "<div>\n",
       "<style scoped>\n",
       "    .dataframe tbody tr th:only-of-type {\n",
       "        vertical-align: middle;\n",
       "    }\n",
       "\n",
       "    .dataframe tbody tr th {\n",
       "        vertical-align: top;\n",
       "    }\n",
       "\n",
       "    .dataframe thead th {\n",
       "        text-align: right;\n",
       "    }\n",
       "</style>\n",
       "<table border=\"1\" class=\"dataframe\">\n",
       "  <thead>\n",
       "    <tr style=\"text-align: right;\">\n",
       "      <th></th>\n",
       "      <th>Country Name</th>\n",
       "      <th>male_le</th>\n",
       "    </tr>\n",
       "  </thead>\n",
       "  <tbody>\n",
       "    <tr>\n",
       "      <th>13</th>\n",
       "      <td>Australia</td>\n",
       "      <td>85.300</td>\n",
       "    </tr>\n",
       "    <tr>\n",
       "      <th>29</th>\n",
       "      <td>Brazil</td>\n",
       "      <td>77.375</td>\n",
       "    </tr>\n",
       "    <tr>\n",
       "      <th>35</th>\n",
       "      <td>Canada</td>\n",
       "      <td>83.950</td>\n",
       "    </tr>\n",
       "    <tr>\n",
       "      <th>40</th>\n",
       "      <td>China</td>\n",
       "      <td>81.058</td>\n",
       "    </tr>\n",
       "    <tr>\n",
       "      <th>55</th>\n",
       "      <td>Germany</td>\n",
       "      <td>83.500</td>\n",
       "    </tr>\n",
       "  </tbody>\n",
       "</table>\n",
       "</div>"
      ],
      "text/plain": [
       "   Country Name  male_le\n",
       "13    Australia   85.300\n",
       "29       Brazil   77.375\n",
       "35       Canada   83.950\n",
       "40        China   81.058\n",
       "55      Germany   83.500"
      ]
     },
     "execution_count": 80,
     "metadata": {},
     "output_type": "execute_result"
    }
   ],
   "source": [
    "### Life Expectancy for female\n",
    "life_expectancy_female = pd.read_csv(\"data/female_le.csv\")\n",
    "df_life_expectancy_female = life_expectancy_female[life_expectancy_female[\"Country Name\"].isin(countries)][[\"Country Name\", \"2020\"]]\n",
    "df_life_expectancy_female.columns = [\"Country Name\", \"male_le\"]\n",
    "df_life_expectancy_female.head()"
   ]
  },
  {
   "cell_type": "code",
   "execution_count": 81,
   "metadata": {},
   "outputs": [
    {
     "data": {
      "text/html": [
       "<div>\n",
       "<style scoped>\n",
       "    .dataframe tbody tr th:only-of-type {\n",
       "        vertical-align: middle;\n",
       "    }\n",
       "\n",
       "    .dataframe tbody tr th {\n",
       "        vertical-align: top;\n",
       "    }\n",
       "\n",
       "    .dataframe thead th {\n",
       "        text-align: right;\n",
       "    }\n",
       "</style>\n",
       "<table border=\"1\" class=\"dataframe\">\n",
       "  <thead>\n",
       "    <tr style=\"text-align: right;\">\n",
       "      <th></th>\n",
       "      <th>Country Name</th>\n",
       "      <th>Food_Production</th>\n",
       "    </tr>\n",
       "  </thead>\n",
       "  <tbody>\n",
       "    <tr>\n",
       "      <th>13</th>\n",
       "      <td>Australia</td>\n",
       "      <td>87.12</td>\n",
       "    </tr>\n",
       "    <tr>\n",
       "      <th>29</th>\n",
       "      <td>Brazil</td>\n",
       "      <td>111.97</td>\n",
       "    </tr>\n",
       "    <tr>\n",
       "      <th>35</th>\n",
       "      <td>Canada</td>\n",
       "      <td>112.78</td>\n",
       "    </tr>\n",
       "    <tr>\n",
       "      <th>40</th>\n",
       "      <td>China</td>\n",
       "      <td>105.49</td>\n",
       "    </tr>\n",
       "    <tr>\n",
       "      <th>55</th>\n",
       "      <td>Germany</td>\n",
       "      <td>95.45</td>\n",
       "    </tr>\n",
       "  </tbody>\n",
       "</table>\n",
       "</div>"
      ],
      "text/plain": [
       "   Country Name  Food_Production\n",
       "13    Australia            87.12\n",
       "29       Brazil           111.97\n",
       "35       Canada           112.78\n",
       "40        China           105.49\n",
       "55      Germany            95.45"
      ]
     },
     "execution_count": 81,
     "metadata": {},
     "output_type": "execute_result"
    }
   ],
   "source": [
    "### Food production\n",
    "food_production = pd.read_csv('data/food_production_indexcsv.csv')\n",
    "food_production_2020 = food_production[food_production[\"Country Name\"].isin(countries)][[\"Country Name\", \"2020\"]]\n",
    "food_production_2020.columns = [\"Country Name\", \"Food_Production\"]\n",
    "food_production_2020.head()"
   ]
  },
  {
   "cell_type": "code",
   "execution_count": 82,
   "metadata": {},
   "outputs": [
    {
     "data": {
      "text/html": [
       "<div>\n",
       "<style scoped>\n",
       "    .dataframe tbody tr th:only-of-type {\n",
       "        vertical-align: middle;\n",
       "    }\n",
       "\n",
       "    .dataframe tbody tr th {\n",
       "        vertical-align: top;\n",
       "    }\n",
       "\n",
       "    .dataframe thead th {\n",
       "        text-align: right;\n",
       "    }\n",
       "</style>\n",
       "<table border=\"1\" class=\"dataframe\">\n",
       "  <thead>\n",
       "    <tr style=\"text-align: right;\">\n",
       "      <th></th>\n",
       "      <th>Country Name</th>\n",
       "      <th>GDP_per_Capita</th>\n",
       "    </tr>\n",
       "  </thead>\n",
       "  <tbody>\n",
       "    <tr>\n",
       "      <th>13</th>\n",
       "      <td>Australia</td>\n",
       "      <td>51868.247560</td>\n",
       "    </tr>\n",
       "    <tr>\n",
       "      <th>29</th>\n",
       "      <td>Brazil</td>\n",
       "      <td>6923.699912</td>\n",
       "    </tr>\n",
       "    <tr>\n",
       "      <th>35</th>\n",
       "      <td>Canada</td>\n",
       "      <td>43537.839300</td>\n",
       "    </tr>\n",
       "    <tr>\n",
       "      <th>40</th>\n",
       "      <td>China</td>\n",
       "      <td>10408.719550</td>\n",
       "    </tr>\n",
       "    <tr>\n",
       "      <th>55</th>\n",
       "      <td>Germany</td>\n",
       "      <td>46749.476230</td>\n",
       "    </tr>\n",
       "  </tbody>\n",
       "</table>\n",
       "</div>"
      ],
      "text/plain": [
       "   Country Name  GDP_per_Capita\n",
       "13    Australia    51868.247560\n",
       "29       Brazil     6923.699912\n",
       "35       Canada    43537.839300\n",
       "40        China    10408.719550\n",
       "55      Germany    46749.476230"
      ]
     },
     "execution_count": 82,
     "metadata": {},
     "output_type": "execute_result"
    }
   ],
   "source": [
    "### GDP per capita\n",
    "gdp_per_capita = pd.read_csv('data/GDP per capita (current US$).csv')\n",
    "gdp_per_capita_2020 = gdp_per_capita[gdp_per_capita[\"Country Name\"].isin(countries)][[\"Country Name\", \"2020\"]]\n",
    "gdp_per_capita_2020.columns = [\"Country Name\", \"GDP_per_Capita\"]\n",
    "gdp_per_capita_2020.head()"
   ]
  },
  {
   "cell_type": "code",
   "execution_count": 83,
   "metadata": {},
   "outputs": [
    {
     "data": {
      "text/html": [
       "<div>\n",
       "<style scoped>\n",
       "    .dataframe tbody tr th:only-of-type {\n",
       "        vertical-align: middle;\n",
       "    }\n",
       "\n",
       "    .dataframe tbody tr th {\n",
       "        vertical-align: top;\n",
       "    }\n",
       "\n",
       "    .dataframe thead th {\n",
       "        text-align: right;\n",
       "    }\n",
       "</style>\n",
       "<table border=\"1\" class=\"dataframe\">\n",
       "  <thead>\n",
       "    <tr style=\"text-align: right;\">\n",
       "      <th></th>\n",
       "      <th>Country Name</th>\n",
       "      <th>Inflation</th>\n",
       "    </tr>\n",
       "  </thead>\n",
       "  <tbody>\n",
       "    <tr>\n",
       "      <th>13</th>\n",
       "      <td>Australia</td>\n",
       "      <td>0.846906</td>\n",
       "    </tr>\n",
       "    <tr>\n",
       "      <th>29</th>\n",
       "      <td>Brazil</td>\n",
       "      <td>3.211768</td>\n",
       "    </tr>\n",
       "    <tr>\n",
       "      <th>35</th>\n",
       "      <td>Canada</td>\n",
       "      <td>0.717000</td>\n",
       "    </tr>\n",
       "    <tr>\n",
       "      <th>40</th>\n",
       "      <td>China</td>\n",
       "      <td>2.419422</td>\n",
       "    </tr>\n",
       "    <tr>\n",
       "      <th>55</th>\n",
       "      <td>Germany</td>\n",
       "      <td>0.144878</td>\n",
       "    </tr>\n",
       "  </tbody>\n",
       "</table>\n",
       "</div>"
      ],
      "text/plain": [
       "   Country Name  Inflation\n",
       "13    Australia   0.846906\n",
       "29       Brazil   3.211768\n",
       "35       Canada   0.717000\n",
       "40        China   2.419422\n",
       "55      Germany   0.144878"
      ]
     },
     "execution_count": 83,
     "metadata": {},
     "output_type": "execute_result"
    }
   ],
   "source": [
    "### Inflation\n",
    "inflation = pd.read_csv('data/Inflation, consumer prices (annual %).csv')\n",
    "inflation_2020 = inflation[inflation[\"Country Name\"].isin(countries)][[\"Country Name\", \"2020\"]]\n",
    "inflation_2020.columns = [\"Country Name\", \"Inflation\"]\n",
    "inflation_2020.head()"
   ]
  },
  {
   "cell_type": "code",
   "execution_count": 85,
   "metadata": {},
   "outputs": [],
   "source": [
    "#concat all\n",
    "final_df = pd.concat([df_life_expectancy_male, df_life_expectancy_female.iloc[:, 1], df_gdp_usd_2020.iloc[:, 1], gdp_per_capita_2020.iloc[:, 1], df_rural_pop_2020.iloc[:, 1], df_urban_pop_2020.iloc[:, 1], food_production_2020.iloc[:, 1], inflation_2020.iloc[:, 1]], axis=1)\n",
    "final_df.head(20)\n",
    "final_df.to_csv('data/final_data.csv', index=False)"
   ]
  },
  {
   "cell_type": "code",
   "execution_count": null,
   "metadata": {},
   "outputs": [],
   "source": []
  }
 ],
 "metadata": {
  "kernelspec": {
   "display_name": "Local Python",
   "language": "python",
   "name": "local-python"
  },
  "language_info": {
   "codemirror_mode": {
    "name": "ipython",
    "version": 3
   },
   "file_extension": ".py",
   "mimetype": "text/x-python",
   "name": "python",
   "nbconvert_exporter": "python",
   "pygments_lexer": "ipython3",
   "version": "3.11.9"
  }
 },
 "nbformat": 4,
 "nbformat_minor": 2
}
